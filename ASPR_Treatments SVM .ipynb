{
 "cells": [
  {
   "cell_type": "code",
   "execution_count": 1,
   "id": "370be5af-b9d1-4057-a3c7-65cb48c2a1c0",
   "metadata": {},
   "outputs": [],
   "source": [
    "import pandas as pd\n",
    "from sklearn.svm import SVC\n",
    "from sklearn.model_selection import train_test_split\n",
    "from sklearn.metrics import classification_report\n"
   ]
  },
  {
   "cell_type": "code",
   "execution_count": 142,
   "id": "d6bed1ab-2d02-41fd-9fd7-3a2a26f3beb4",
   "metadata": {},
   "outputs": [
    {
     "name": "stderr",
     "output_type": "stream",
     "text": [
      "C:\\Users\\gokul\\AppData\\Local\\Temp\\ipykernel_22108\\1701148204.py:1: DtypeWarning: Columns (12,13) have mixed types. Specify dtype option on import or set low_memory=False.\n",
      "  df = pd.read_csv(r\"C:\\Users\\gokul\\ASPR_Treatments.csv.csv\")\n"
     ]
    }
   ],
   "source": [
    "df = pd.read_csv(r\"C:\\Users\\gokul\\ASPR_Treatments.csv.csv\")"
   ]
  },
  {
   "cell_type": "code",
   "execution_count": 143,
   "id": "c315b01c-1f61-4e5d-bc07-25675e9ab279",
   "metadata": {},
   "outputs": [
    {
     "data": {
      "text/plain": [
       "(65848, 34)"
      ]
     },
     "execution_count": 143,
     "metadata": {},
     "output_type": "execute_result"
    }
   ],
   "source": [
    "df.shape"
   ]
  },
  {
   "cell_type": "code",
   "execution_count": 144,
   "id": "44e2ed18-0268-419d-b87a-c4bb5faddcaa",
   "metadata": {},
   "outputs": [
    {
     "name": "stdout",
     "output_type": "stream",
     "text": [
      "<class 'pandas.core.frame.DataFrame'>\n",
      "RangeIndex: 65848 entries, 0 to 65847\n",
      "Data columns (total 34 columns):\n",
      " #   Column                          Non-Null Count  Dtype  \n",
      "---  ------                          --------------  -----  \n",
      " 0   Provider Name                   65848 non-null  object \n",
      " 1   Address 1                       65847 non-null  object \n",
      " 2   Address 2                       7373 non-null   object \n",
      " 3   City                            65847 non-null  object \n",
      " 4   State                           65847 non-null  object \n",
      " 5   Zip                             65847 non-null  object \n",
      " 6   Public Phone                    20559 non-null  object \n",
      " 7   Latitude                        65848 non-null  float64\n",
      " 8   Longitude                       65848 non-null  float64\n",
      " 9   Geopoint                        65848 non-null  object \n",
      " 10  Last Report Date                65847 non-null  object \n",
      " 11  Is PAP Site                     65848 non-null  bool   \n",
      " 12  Prescribing Services Available  894 non-null    object \n",
      " 13  Appointment URL                 494 non-null    object \n",
      " 14  Home Delivery                   65848 non-null  bool   \n",
      " 15  Is ICATT Site                   65848 non-null  bool   \n",
      " 16  Has USG Product                 65848 non-null  bool   \n",
      " 17  Has Commercial Product          65848 non-null  bool   \n",
      " 18  Has Paxlovid                    65848 non-null  bool   \n",
      " 19  Has Commercial Paxlovid         65848 non-null  bool   \n",
      " 20  Has USG Paxlovid                65848 non-null  bool   \n",
      " 21  Has Lagevrio                    65848 non-null  bool   \n",
      " 22  Has Commercial Lagevrio         65848 non-null  bool   \n",
      " 23  Has USG Lagevrio                65848 non-null  bool   \n",
      " 24  Has Veklury                     65848 non-null  bool   \n",
      " 25  Has Oseltamivir Generic         65848 non-null  bool   \n",
      " 26  Has Oseltamivir Suspension      65848 non-null  bool   \n",
      " 27  Has Oseltamivir Tamiflu         65848 non-null  bool   \n",
      " 28  Has Baloxavir                   65848 non-null  bool   \n",
      " 29  Has Zanamivir                   65848 non-null  bool   \n",
      " 30  Has Peramivir                   65848 non-null  bool   \n",
      " 31  Grantee Code                    45474 non-null  object \n",
      " 32  Is Flu                          65848 non-null  bool   \n",
      " 33  Is COVID-19                     65848 non-null  bool   \n",
      "dtypes: bool(20), float64(2), object(12)\n",
      "memory usage: 8.3+ MB\n"
     ]
    }
   ],
   "source": [
    "df.info()"
   ]
  },
  {
   "cell_type": "code",
   "execution_count": 145,
   "id": "8756c432-d562-4f9d-81f0-71511ce7a572",
   "metadata": {},
   "outputs": [
    {
     "data": {
      "text/html": [
       "<div>\n",
       "<style scoped>\n",
       "    .dataframe tbody tr th:only-of-type {\n",
       "        vertical-align: middle;\n",
       "    }\n",
       "\n",
       "    .dataframe tbody tr th {\n",
       "        vertical-align: top;\n",
       "    }\n",
       "\n",
       "    .dataframe thead th {\n",
       "        text-align: right;\n",
       "    }\n",
       "</style>\n",
       "<table border=\"1\" class=\"dataframe\">\n",
       "  <thead>\n",
       "    <tr style=\"text-align: right;\">\n",
       "      <th></th>\n",
       "      <th>Provider Name</th>\n",
       "      <th>Address 1</th>\n",
       "      <th>Address 2</th>\n",
       "      <th>City</th>\n",
       "      <th>State</th>\n",
       "      <th>Zip</th>\n",
       "      <th>Public Phone</th>\n",
       "      <th>Latitude</th>\n",
       "      <th>Longitude</th>\n",
       "      <th>Geopoint</th>\n",
       "      <th>...</th>\n",
       "      <th>Has Veklury</th>\n",
       "      <th>Has Oseltamivir Generic</th>\n",
       "      <th>Has Oseltamivir Suspension</th>\n",
       "      <th>Has Oseltamivir Tamiflu</th>\n",
       "      <th>Has Baloxavir</th>\n",
       "      <th>Has Zanamivir</th>\n",
       "      <th>Has Peramivir</th>\n",
       "      <th>Grantee Code</th>\n",
       "      <th>Is Flu</th>\n",
       "      <th>Is COVID-19</th>\n",
       "    </tr>\n",
       "  </thead>\n",
       "  <tbody>\n",
       "    <tr>\n",
       "      <th>0</th>\n",
       "      <td>CVS PHARMACY #05246</td>\n",
       "      <td>110 HWY 98</td>\n",
       "      <td>NaN</td>\n",
       "      <td>PORT SAINT JOE</td>\n",
       "      <td>FL</td>\n",
       "      <td>32456</td>\n",
       "      <td>NaN</td>\n",
       "      <td>30.016430</td>\n",
       "      <td>-85.430510</td>\n",
       "      <td>POINT (-85.43051 30.01643)</td>\n",
       "      <td>...</td>\n",
       "      <td>False</td>\n",
       "      <td>False</td>\n",
       "      <td>False</td>\n",
       "      <td>False</td>\n",
       "      <td>False</td>\n",
       "      <td>False</td>\n",
       "      <td>False</td>\n",
       "      <td>CV1</td>\n",
       "      <td>False</td>\n",
       "      <td>True</td>\n",
       "    </tr>\n",
       "    <tr>\n",
       "      <th>1</th>\n",
       "      <td>PUBLIX PHARMACY #0567</td>\n",
       "      <td>2517 SOUTH FEDERAL HIGHWAY</td>\n",
       "      <td>NaN</td>\n",
       "      <td>FT PIERCE</td>\n",
       "      <td>FL</td>\n",
       "      <td>34982</td>\n",
       "      <td>NaN</td>\n",
       "      <td>27.319630</td>\n",
       "      <td>-80.316317</td>\n",
       "      <td>POINT (-80.316317 27.31963)</td>\n",
       "      <td>...</td>\n",
       "      <td>False</td>\n",
       "      <td>False</td>\n",
       "      <td>False</td>\n",
       "      <td>False</td>\n",
       "      <td>False</td>\n",
       "      <td>False</td>\n",
       "      <td>False</td>\n",
       "      <td>PX1</td>\n",
       "      <td>False</td>\n",
       "      <td>True</td>\n",
       "    </tr>\n",
       "    <tr>\n",
       "      <th>2</th>\n",
       "      <td>WALGREENS #4379</td>\n",
       "      <td>4320 26TH ST W</td>\n",
       "      <td>NaN</td>\n",
       "      <td>BRADENTON</td>\n",
       "      <td>FL</td>\n",
       "      <td>34205-3563</td>\n",
       "      <td>941-755-8596</td>\n",
       "      <td>27.462954</td>\n",
       "      <td>-82.588373</td>\n",
       "      <td>POINT (-82.588373 27.462954)</td>\n",
       "      <td>...</td>\n",
       "      <td>False</td>\n",
       "      <td>True</td>\n",
       "      <td>False</td>\n",
       "      <td>False</td>\n",
       "      <td>False</td>\n",
       "      <td>False</td>\n",
       "      <td>False</td>\n",
       "      <td>WG1</td>\n",
       "      <td>True</td>\n",
       "      <td>True</td>\n",
       "    </tr>\n",
       "    <tr>\n",
       "      <th>3</th>\n",
       "      <td>PUBLIX PHARMACY #0894</td>\n",
       "      <td>6820 OKEECHOBEE BLVD</td>\n",
       "      <td>NaN</td>\n",
       "      <td>WEST PALM BEACH</td>\n",
       "      <td>FL</td>\n",
       "      <td>33411</td>\n",
       "      <td>NaN</td>\n",
       "      <td>26.705894</td>\n",
       "      <td>-80.150789</td>\n",
       "      <td>POINT (-80.150789 26.705894)</td>\n",
       "      <td>...</td>\n",
       "      <td>False</td>\n",
       "      <td>False</td>\n",
       "      <td>False</td>\n",
       "      <td>False</td>\n",
       "      <td>False</td>\n",
       "      <td>False</td>\n",
       "      <td>False</td>\n",
       "      <td>PX1</td>\n",
       "      <td>False</td>\n",
       "      <td>True</td>\n",
       "    </tr>\n",
       "    <tr>\n",
       "      <th>4</th>\n",
       "      <td>PUBLIX PHARMACY #0019</td>\n",
       "      <td>731 DUVAL STATION RD SUITE 4</td>\n",
       "      <td>NaN</td>\n",
       "      <td>JACKSONVILLE</td>\n",
       "      <td>FL</td>\n",
       "      <td>32218</td>\n",
       "      <td>NaN</td>\n",
       "      <td>30.485316</td>\n",
       "      <td>-81.604614</td>\n",
       "      <td>POINT (-81.604614 30.485316)</td>\n",
       "      <td>...</td>\n",
       "      <td>False</td>\n",
       "      <td>False</td>\n",
       "      <td>False</td>\n",
       "      <td>False</td>\n",
       "      <td>False</td>\n",
       "      <td>False</td>\n",
       "      <td>False</td>\n",
       "      <td>PX1</td>\n",
       "      <td>False</td>\n",
       "      <td>True</td>\n",
       "    </tr>\n",
       "  </tbody>\n",
       "</table>\n",
       "<p>5 rows × 34 columns</p>\n",
       "</div>"
      ],
      "text/plain": [
       "           Provider Name                     Address 1 Address 2  \\\n",
       "0    CVS PHARMACY #05246                    110 HWY 98       NaN   \n",
       "1  PUBLIX PHARMACY #0567    2517 SOUTH FEDERAL HIGHWAY       NaN   \n",
       "2        WALGREENS #4379                4320 26TH ST W       NaN   \n",
       "3  PUBLIX PHARMACY #0894          6820 OKEECHOBEE BLVD       NaN   \n",
       "4  PUBLIX PHARMACY #0019  731 DUVAL STATION RD SUITE 4       NaN   \n",
       "\n",
       "              City State         Zip  Public Phone   Latitude  Longitude  \\\n",
       "0   PORT SAINT JOE    FL       32456           NaN  30.016430 -85.430510   \n",
       "1        FT PIERCE    FL       34982           NaN  27.319630 -80.316317   \n",
       "2        BRADENTON    FL  34205-3563  941-755-8596  27.462954 -82.588373   \n",
       "3  WEST PALM BEACH    FL       33411           NaN  26.705894 -80.150789   \n",
       "4     JACKSONVILLE    FL       32218           NaN  30.485316 -81.604614   \n",
       "\n",
       "                       Geopoint  ... Has Veklury  Has Oseltamivir Generic  \\\n",
       "0    POINT (-85.43051 30.01643)  ...       False                    False   \n",
       "1   POINT (-80.316317 27.31963)  ...       False                    False   \n",
       "2  POINT (-82.588373 27.462954)  ...       False                     True   \n",
       "3  POINT (-80.150789 26.705894)  ...       False                    False   \n",
       "4  POINT (-81.604614 30.485316)  ...       False                    False   \n",
       "\n",
       "  Has Oseltamivir Suspension Has Oseltamivir Tamiflu  Has Baloxavir  \\\n",
       "0                      False                   False          False   \n",
       "1                      False                   False          False   \n",
       "2                      False                   False          False   \n",
       "3                      False                   False          False   \n",
       "4                      False                   False          False   \n",
       "\n",
       "   Has Zanamivir  Has Peramivir  Grantee Code  Is Flu  Is COVID-19  \n",
       "0          False          False           CV1   False         True  \n",
       "1          False          False           PX1   False         True  \n",
       "2          False          False           WG1    True         True  \n",
       "3          False          False           PX1   False         True  \n",
       "4          False          False           PX1   False         True  \n",
       "\n",
       "[5 rows x 34 columns]"
      ]
     },
     "execution_count": 145,
     "metadata": {},
     "output_type": "execute_result"
    }
   ],
   "source": [
    "df.head()"
   ]
  },
  {
   "cell_type": "code",
   "execution_count": 146,
   "id": "79c0ad3f-fd9b-454f-aeb4-b7117a14973a",
   "metadata": {},
   "outputs": [
    {
     "data": {
      "text/plain": [
       "Provider Name                         0\n",
       "Address 1                             1\n",
       "Address 2                         58475\n",
       "City                                  1\n",
       "State                                 1\n",
       "Zip                                   1\n",
       "Public Phone                      45289\n",
       "Latitude                              0\n",
       "Longitude                             0\n",
       "Geopoint                              0\n",
       "Last Report Date                      1\n",
       "Is PAP Site                           0\n",
       "Prescribing Services Available    64954\n",
       "Appointment URL                   65354\n",
       "Home Delivery                         0\n",
       "Is ICATT Site                         0\n",
       "Has USG Product                       0\n",
       "Has Commercial Product                0\n",
       "Has Paxlovid                          0\n",
       "Has Commercial Paxlovid               0\n",
       "Has USG Paxlovid                      0\n",
       "Has Lagevrio                          0\n",
       "Has Commercial Lagevrio               0\n",
       "Has USG Lagevrio                      0\n",
       "Has Veklury                           0\n",
       "Has Oseltamivir Generic               0\n",
       "Has Oseltamivir Suspension            0\n",
       "Has Oseltamivir Tamiflu               0\n",
       "Has Baloxavir                         0\n",
       "Has Zanamivir                         0\n",
       "Has Peramivir                         0\n",
       "Grantee Code                      20374\n",
       "Is Flu                                0\n",
       "Is COVID-19                           0\n",
       "dtype: int64"
      ]
     },
     "execution_count": 146,
     "metadata": {},
     "output_type": "execute_result"
    }
   ],
   "source": [
    "df.isnull().sum()"
   ]
  },
  {
   "cell_type": "code",
   "execution_count": 147,
   "id": "ba9b1a57-7480-47e9-9b41-8cb1856da535",
   "metadata": {},
   "outputs": [
    {
     "data": {
      "text/plain": [
       "Address 1\n",
       "False    65847\n",
       "True         1\n",
       "Name: count, dtype: int64"
      ]
     },
     "execution_count": 147,
     "metadata": {},
     "output_type": "execute_result"
    }
   ],
   "source": [
    "df['Address 1'].isnull().value_counts()"
   ]
  },
  {
   "cell_type": "code",
   "execution_count": 148,
   "id": "77dea633-fe7a-48a2-87a3-1dfab5eeb709",
   "metadata": {},
   "outputs": [
    {
     "data": {
      "text/plain": [
       "'110 HWY 98'"
      ]
     },
     "execution_count": 148,
     "metadata": {},
     "output_type": "execute_result"
    }
   ],
   "source": [
    "df['Address 1'][0]"
   ]
  },
  {
   "cell_type": "code",
   "execution_count": 149,
   "id": "7a4698d6-3c1e-4f16-b24a-e46cc4ee7808",
   "metadata": {},
   "outputs": [
    {
     "data": {
      "text/plain": [
       "Address 2\n",
       "True     58475\n",
       "False     7373\n",
       "Name: count, dtype: int64"
      ]
     },
     "execution_count": 149,
     "metadata": {},
     "output_type": "execute_result"
    }
   ],
   "source": [
    "df['Address 2'].isnull().value_counts()"
   ]
  },
  {
   "cell_type": "code",
   "execution_count": 150,
   "id": "844a8967-6b54-4735-b893-f65f4c1dfdb6",
   "metadata": {},
   "outputs": [
    {
     "data": {
      "text/plain": [
       "Is COVID-19\n",
       "True     65135\n",
       "False      713\n",
       "Name: count, dtype: int64"
      ]
     },
     "execution_count": 150,
     "metadata": {},
     "output_type": "execute_result"
    }
   ],
   "source": [
    "df['Is COVID-19'].value_counts()"
   ]
  },
  {
   "cell_type": "code",
   "execution_count": 151,
   "id": "0158db2b-7f76-44d6-b7d0-591202bac96f",
   "metadata": {},
   "outputs": [
    {
     "data": {
      "text/plain": [
       "Public Phone\n",
       "True     45289\n",
       "False    20559\n",
       "Name: count, dtype: int64"
      ]
     },
     "execution_count": 151,
     "metadata": {},
     "output_type": "execute_result"
    }
   ],
   "source": [
    "df['Public Phone'].isnull().value_counts()"
   ]
  },
  {
   "cell_type": "code",
   "execution_count": 152,
   "id": "4a6163de-5126-4fcd-8d16-8bcbfabc43d9",
   "metadata": {},
   "outputs": [
    {
     "data": {
      "text/plain": [
       "0        True\n",
       "1        True\n",
       "2        True\n",
       "3        True\n",
       "4        True\n",
       "         ... \n",
       "65843    True\n",
       "65844    True\n",
       "65845    True\n",
       "65846    True\n",
       "65847    True\n",
       "Name: Prescribing Services Available, Length: 65848, dtype: bool"
      ]
     },
     "execution_count": 152,
     "metadata": {},
     "output_type": "execute_result"
    }
   ],
   "source": [
    "df['Prescribing Services Available'].isnull()"
   ]
  },
  {
   "cell_type": "code",
   "execution_count": 153,
   "id": "a83a0cde-c628-4969-b5c8-aa390bc51901",
   "metadata": {},
   "outputs": [
    {
     "data": {
      "text/plain": [
       "6137     False\n",
       "6146     False\n",
       "6174     False\n",
       "6182     False\n",
       "6198     False\n",
       "         ...  \n",
       "52620    False\n",
       "52638     True\n",
       "54224    False\n",
       "56360    False\n",
       "56361    False\n",
       "Name: Prescribing Services Available, Length: 894, dtype: object"
      ]
     },
     "execution_count": 153,
     "metadata": {},
     "output_type": "execute_result"
    }
   ],
   "source": [
    "df[df['Prescribing Services Available'].notna()]['Prescribing Services Available']"
   ]
  },
  {
   "cell_type": "code",
   "execution_count": 154,
   "id": "b78026b6-8e07-4b49-9939-d9647148242f",
   "metadata": {},
   "outputs": [
    {
     "data": {
      "text/plain": [
       "nan"
      ]
     },
     "execution_count": 154,
     "metadata": {},
     "output_type": "execute_result"
    }
   ],
   "source": [
    "df['Prescribing Services Available'][65847]"
   ]
  },
  {
   "cell_type": "code",
   "execution_count": 155,
   "id": "a4e98fd6-54d5-4fdc-a29d-939dc8588438",
   "metadata": {},
   "outputs": [
    {
     "data": {
      "text/plain": [
       "Index(['Provider Name', 'Address 1', 'Address 2', 'City', 'State', 'Zip',\n",
       "       'Public Phone', 'Latitude', 'Longitude', 'Geopoint', 'Last Report Date',\n",
       "       'Is PAP Site', 'Prescribing Services Available', 'Appointment URL',\n",
       "       'Home Delivery', 'Is ICATT Site', 'Has USG Product',\n",
       "       'Has Commercial Product', 'Has Paxlovid', 'Has Commercial Paxlovid',\n",
       "       'Has USG Paxlovid', 'Has Lagevrio', 'Has Commercial Lagevrio',\n",
       "       'Has USG Lagevrio', 'Has Veklury', 'Has Oseltamivir Generic',\n",
       "       'Has Oseltamivir Suspension', 'Has Oseltamivir Tamiflu',\n",
       "       'Has Baloxavir', 'Has Zanamivir', 'Has Peramivir', 'Grantee Code',\n",
       "       'Is Flu', 'Is COVID-19'],\n",
       "      dtype='object')"
      ]
     },
     "execution_count": 155,
     "metadata": {},
     "output_type": "execute_result"
    }
   ],
   "source": [
    "df.columns"
   ]
  },
  {
   "cell_type": "code",
   "execution_count": 156,
   "id": "0cf7e4c3-1068-46b6-a184-6a17d0054595",
   "metadata": {},
   "outputs": [],
   "source": [
    "#Dropping values "
   ]
  },
  {
   "cell_type": "code",
   "execution_count": 157,
   "id": "6eb40640-b70c-440b-b488-9d51600f9fce",
   "metadata": {},
   "outputs": [],
   "source": [
    "df.drop(columns =['Address 1', 'Address 2', 'Public Phone', 'Prescribing Services Available', 'Appointment URL'], inplace = True)"
   ]
  },
  {
   "cell_type": "code",
   "execution_count": 158,
   "id": "7aebd291-69ff-4d32-9967-8f3d1ef285dd",
   "metadata": {},
   "outputs": [
    {
     "data": {
      "text/plain": [
       "Index(['Provider Name', 'City', 'State', 'Zip', 'Latitude', 'Longitude',\n",
       "       'Geopoint', 'Last Report Date', 'Is PAP Site', 'Home Delivery',\n",
       "       'Is ICATT Site', 'Has USG Product', 'Has Commercial Product',\n",
       "       'Has Paxlovid', 'Has Commercial Paxlovid', 'Has USG Paxlovid',\n",
       "       'Has Lagevrio', 'Has Commercial Lagevrio', 'Has USG Lagevrio',\n",
       "       'Has Veklury', 'Has Oseltamivir Generic', 'Has Oseltamivir Suspension',\n",
       "       'Has Oseltamivir Tamiflu', 'Has Baloxavir', 'Has Zanamivir',\n",
       "       'Has Peramivir', 'Grantee Code', 'Is Flu', 'Is COVID-19'],\n",
       "      dtype='object')"
      ]
     },
     "execution_count": 158,
     "metadata": {},
     "output_type": "execute_result"
    }
   ],
   "source": [
    "df.columns"
   ]
  },
  {
   "cell_type": "code",
   "execution_count": 159,
   "id": "6ff62ce9-34c8-42a8-9766-397bd0abf00f",
   "metadata": {},
   "outputs": [
    {
     "data": {
      "text/plain": [
       "(65848, 29)"
      ]
     },
     "execution_count": 159,
     "metadata": {},
     "output_type": "execute_result"
    }
   ],
   "source": [
    "df.shape"
   ]
  },
  {
   "cell_type": "code",
   "execution_count": 160,
   "id": "232226e8-271e-4886-a011-03690aedbfdf",
   "metadata": {},
   "outputs": [
    {
     "data": {
      "text/plain": [
       "Grantee Code\n",
       "False    45474\n",
       "True     20374\n",
       "Name: count, dtype: int64"
      ]
     },
     "execution_count": 160,
     "metadata": {},
     "output_type": "execute_result"
    }
   ],
   "source": [
    "df['Grantee Code'].isnull().value_counts()"
   ]
  },
  {
   "cell_type": "code",
   "execution_count": 161,
   "id": "67fdd2af-0a19-4a62-8ffe-4cfe5d5927e4",
   "metadata": {},
   "outputs": [
    {
     "data": {
      "text/plain": [
       "0    CV1\n",
       "1    PX1\n",
       "2    WG1\n",
       "3    PX1\n",
       "4    PX1\n",
       "Name: Grantee Code, dtype: object"
      ]
     },
     "execution_count": 161,
     "metadata": {},
     "output_type": "execute_result"
    }
   ],
   "source": [
    "df['Grantee Code'].head()"
   ]
  },
  {
   "cell_type": "code",
   "execution_count": 162,
   "id": "c515582d-30ca-4d31-9944-8f8f54a69bdf",
   "metadata": {},
   "outputs": [],
   "source": [
    "mode_value = df['Grantee Code'].mode()[0]"
   ]
  },
  {
   "cell_type": "code",
   "execution_count": 163,
   "id": "fbcdd0f2-6497-4e3b-8572-db6b4992b4c0",
   "metadata": {},
   "outputs": [
    {
     "data": {
      "text/plain": [
       "'CV1'"
      ]
     },
     "execution_count": 163,
     "metadata": {},
     "output_type": "execute_result"
    }
   ],
   "source": [
    "mode_value"
   ]
  },
  {
   "cell_type": "code",
   "execution_count": 164,
   "id": "22628c1f-9148-4b16-acc0-7852ac6fdc30",
   "metadata": {},
   "outputs": [],
   "source": [
    "df['Grantee Code'] = df['Grantee Code'].fillna(mode_value)"
   ]
  },
  {
   "cell_type": "code",
   "execution_count": 165,
   "id": "c4f11391-b8c3-4ee3-a71d-5a09f11daa7f",
   "metadata": {},
   "outputs": [
    {
     "data": {
      "text/plain": [
       "Provider Name                 0\n",
       "City                          1\n",
       "State                         1\n",
       "Zip                           1\n",
       "Latitude                      0\n",
       "Longitude                     0\n",
       "Geopoint                      0\n",
       "Last Report Date              1\n",
       "Is PAP Site                   0\n",
       "Home Delivery                 0\n",
       "Is ICATT Site                 0\n",
       "Has USG Product               0\n",
       "Has Commercial Product        0\n",
       "Has Paxlovid                  0\n",
       "Has Commercial Paxlovid       0\n",
       "Has USG Paxlovid              0\n",
       "Has Lagevrio                  0\n",
       "Has Commercial Lagevrio       0\n",
       "Has USG Lagevrio              0\n",
       "Has Veklury                   0\n",
       "Has Oseltamivir Generic       0\n",
       "Has Oseltamivir Suspension    0\n",
       "Has Oseltamivir Tamiflu       0\n",
       "Has Baloxavir                 0\n",
       "Has Zanamivir                 0\n",
       "Has Peramivir                 0\n",
       "Grantee Code                  0\n",
       "Is Flu                        0\n",
       "Is COVID-19                   0\n",
       "dtype: int64"
      ]
     },
     "execution_count": 165,
     "metadata": {},
     "output_type": "execute_result"
    }
   ],
   "source": [
    "df.isnull().sum()"
   ]
  },
  {
   "cell_type": "code",
   "execution_count": 166,
   "id": "1211a18b-5452-4430-8702-c019b77fb108",
   "metadata": {},
   "outputs": [],
   "source": [
    "df['Last Report Date'] = df['Last Report Date'].ffill() # change data type to DATE\n",
    "df['City'] = df['City'].bfill()\n",
    "df['Zip'] = df['Zip'].ffill()  "
   ]
  },
  {
   "cell_type": "code",
   "execution_count": 167,
   "id": "cf3065ac-569f-4caa-9ab2-e1bb322751cf",
   "metadata": {},
   "outputs": [
    {
     "data": {
      "text/plain": [
       "Provider Name                 0\n",
       "City                          0\n",
       "State                         1\n",
       "Zip                           0\n",
       "Latitude                      0\n",
       "Longitude                     0\n",
       "Geopoint                      0\n",
       "Last Report Date              0\n",
       "Is PAP Site                   0\n",
       "Home Delivery                 0\n",
       "Is ICATT Site                 0\n",
       "Has USG Product               0\n",
       "Has Commercial Product        0\n",
       "Has Paxlovid                  0\n",
       "Has Commercial Paxlovid       0\n",
       "Has USG Paxlovid              0\n",
       "Has Lagevrio                  0\n",
       "Has Commercial Lagevrio       0\n",
       "Has USG Lagevrio              0\n",
       "Has Veklury                   0\n",
       "Has Oseltamivir Generic       0\n",
       "Has Oseltamivir Suspension    0\n",
       "Has Oseltamivir Tamiflu       0\n",
       "Has Baloxavir                 0\n",
       "Has Zanamivir                 0\n",
       "Has Peramivir                 0\n",
       "Grantee Code                  0\n",
       "Is Flu                        0\n",
       "Is COVID-19                   0\n",
       "dtype: int64"
      ]
     },
     "execution_count": 167,
     "metadata": {},
     "output_type": "execute_result"
    }
   ],
   "source": [
    "df.isnull().sum()"
   ]
  },
  {
   "cell_type": "code",
   "execution_count": 168,
   "id": "bfed6eca-7c40-4986-8e41-79ddf2449e1d",
   "metadata": {},
   "outputs": [],
   "source": [
    "df.drop(columns = 'State', inplace = True)"
   ]
  },
  {
   "cell_type": "code",
   "execution_count": 169,
   "id": "c0f48003-46fb-4e35-8a6a-a607a4a858cf",
   "metadata": {},
   "outputs": [
    {
     "data": {
      "text/plain": [
       "Provider Name                 0\n",
       "City                          0\n",
       "Zip                           0\n",
       "Latitude                      0\n",
       "Longitude                     0\n",
       "Geopoint                      0\n",
       "Last Report Date              0\n",
       "Is PAP Site                   0\n",
       "Home Delivery                 0\n",
       "Is ICATT Site                 0\n",
       "Has USG Product               0\n",
       "Has Commercial Product        0\n",
       "Has Paxlovid                  0\n",
       "Has Commercial Paxlovid       0\n",
       "Has USG Paxlovid              0\n",
       "Has Lagevrio                  0\n",
       "Has Commercial Lagevrio       0\n",
       "Has USG Lagevrio              0\n",
       "Has Veklury                   0\n",
       "Has Oseltamivir Generic       0\n",
       "Has Oseltamivir Suspension    0\n",
       "Has Oseltamivir Tamiflu       0\n",
       "Has Baloxavir                 0\n",
       "Has Zanamivir                 0\n",
       "Has Peramivir                 0\n",
       "Grantee Code                  0\n",
       "Is Flu                        0\n",
       "Is COVID-19                   0\n",
       "dtype: int64"
      ]
     },
     "execution_count": 169,
     "metadata": {},
     "output_type": "execute_result"
    }
   ],
   "source": [
    "df.isnull().sum()"
   ]
  },
  {
   "cell_type": "code",
   "execution_count": 170,
   "id": "b39bad92-c2b1-4c52-b095-7c5fdea486ae",
   "metadata": {},
   "outputs": [
    {
     "data": {
      "text/plain": [
       "'1/17/2025 0:00'"
      ]
     },
     "execution_count": 170,
     "metadata": {},
     "output_type": "execute_result"
    }
   ],
   "source": [
    "df['Last Report Date'][0]"
   ]
  },
  {
   "cell_type": "code",
   "execution_count": 171,
   "id": "d89b75ad-ed4e-4815-9533-6f9b7ea161a5",
   "metadata": {},
   "outputs": [],
   "source": [
    "df['Last Report Date'] = pd.to_datetime(df['Last Report Date'])"
   ]
  },
  {
   "cell_type": "code",
   "execution_count": 172,
   "id": "44f6ee76-a782-4c30-a323-cd3cb7558324",
   "metadata": {},
   "outputs": [
    {
     "name": "stdout",
     "output_type": "stream",
     "text": [
      "datetime64[ns]\n"
     ]
    }
   ],
   "source": [
    "print(df['Last Report Date'].dtype)"
   ]
  },
  {
   "cell_type": "code",
   "execution_count": 173,
   "id": "6806f4ad-2c6b-47ff-9266-e107760d659e",
   "metadata": {},
   "outputs": [
    {
     "name": "stdout",
     "output_type": "stream",
     "text": [
      "object\n"
     ]
    }
   ],
   "source": [
    "print(df['Zip'].dtype)"
   ]
  },
  {
   "cell_type": "code",
   "execution_count": 174,
   "id": "0b99ee59-f944-4f06-b345-4943fbf4e370",
   "metadata": {},
   "outputs": [
    {
     "data": {
      "text/plain": [
       "'32456'"
      ]
     },
     "execution_count": 174,
     "metadata": {},
     "output_type": "execute_result"
    }
   ],
   "source": [
    "df['Zip'][0]"
   ]
  },
  {
   "cell_type": "code",
   "execution_count": 175,
   "id": "655dd267-dc3d-4d96-a172-3e204823ea7d",
   "metadata": {},
   "outputs": [
    {
     "data": {
      "text/plain": [
       "Provider Name                 0\n",
       "City                          0\n",
       "Zip                           0\n",
       "Latitude                      0\n",
       "Longitude                     0\n",
       "Geopoint                      0\n",
       "Last Report Date              0\n",
       "Is PAP Site                   0\n",
       "Home Delivery                 0\n",
       "Is ICATT Site                 0\n",
       "Has USG Product               0\n",
       "Has Commercial Product        0\n",
       "Has Paxlovid                  0\n",
       "Has Commercial Paxlovid       0\n",
       "Has USG Paxlovid              0\n",
       "Has Lagevrio                  0\n",
       "Has Commercial Lagevrio       0\n",
       "Has USG Lagevrio              0\n",
       "Has Veklury                   0\n",
       "Has Oseltamivir Generic       0\n",
       "Has Oseltamivir Suspension    0\n",
       "Has Oseltamivir Tamiflu       0\n",
       "Has Baloxavir                 0\n",
       "Has Zanamivir                 0\n",
       "Has Peramivir                 0\n",
       "Grantee Code                  0\n",
       "Is Flu                        0\n",
       "Is COVID-19                   0\n",
       "dtype: int64"
      ]
     },
     "execution_count": 175,
     "metadata": {},
     "output_type": "execute_result"
    }
   ],
   "source": [
    "df.isnull().sum()"
   ]
  },
  {
   "cell_type": "code",
   "execution_count": 176,
   "id": "e6103eb2-d3d4-4e97-ab39-a6b06cccffeb",
   "metadata": {},
   "outputs": [
    {
     "data": {
      "text/plain": [
       "Is COVID-19\n",
       "True     65135\n",
       "False      713\n",
       "Name: count, dtype: int64"
      ]
     },
     "execution_count": 176,
     "metadata": {},
     "output_type": "execute_result"
    }
   ],
   "source": [
    "df['Is COVID-19'].value_counts()"
   ]
  },
  {
   "cell_type": "code",
   "execution_count": 177,
   "id": "f9c40e2d-dda2-49a3-a120-eda62accd4ef",
   "metadata": {},
   "outputs": [],
   "source": [
    "COVID_tr = df[(df['Is COVID-19'] == True)]"
   ]
  },
  {
   "cell_type": "code",
   "execution_count": 178,
   "id": "24341358-1c58-4307-9052-29e49bb37d89",
   "metadata": {},
   "outputs": [],
   "source": [
    "COVID_1k = COVID_tr.sample(n = 1000)"
   ]
  },
  {
   "cell_type": "code",
   "execution_count": 179,
   "id": "84a49cae-1c3d-46fa-ae31-ea75585dfc84",
   "metadata": {},
   "outputs": [],
   "source": [
    "COVID_fl = df[(df['Is COVID-19']== False)]"
   ]
  },
  {
   "cell_type": "code",
   "execution_count": 180,
   "id": "cba60334-da11-473e-8a02-7f19d1797cee",
   "metadata": {},
   "outputs": [],
   "source": [
    "Cov = pd.concat([COVID_1k,COVID_fl], axis = 0)"
   ]
  },
  {
   "cell_type": "code",
   "execution_count": 181,
   "id": "29ebfffd-c9cf-43eb-9459-dde4dc095934",
   "metadata": {},
   "outputs": [
    {
     "data": {
      "text/plain": [
       "Provider Name                 0\n",
       "City                          0\n",
       "Zip                           0\n",
       "Latitude                      0\n",
       "Longitude                     0\n",
       "Geopoint                      0\n",
       "Last Report Date              0\n",
       "Is PAP Site                   0\n",
       "Home Delivery                 0\n",
       "Is ICATT Site                 0\n",
       "Has USG Product               0\n",
       "Has Commercial Product        0\n",
       "Has Paxlovid                  0\n",
       "Has Commercial Paxlovid       0\n",
       "Has USG Paxlovid              0\n",
       "Has Lagevrio                  0\n",
       "Has Commercial Lagevrio       0\n",
       "Has USG Lagevrio              0\n",
       "Has Veklury                   0\n",
       "Has Oseltamivir Generic       0\n",
       "Has Oseltamivir Suspension    0\n",
       "Has Oseltamivir Tamiflu       0\n",
       "Has Baloxavir                 0\n",
       "Has Zanamivir                 0\n",
       "Has Peramivir                 0\n",
       "Grantee Code                  0\n",
       "Is Flu                        0\n",
       "Is COVID-19                   0\n",
       "dtype: int64"
      ]
     },
     "execution_count": 181,
     "metadata": {},
     "output_type": "execute_result"
    }
   ],
   "source": [
    "Cov.isnull().sum()"
   ]
  },
  {
   "cell_type": "code",
   "execution_count": 182,
   "id": "7b416a84-b876-4353-9600-7a0bce4fea99",
   "metadata": {},
   "outputs": [
    {
     "data": {
      "text/html": [
       "<div>\n",
       "<style scoped>\n",
       "    .dataframe tbody tr th:only-of-type {\n",
       "        vertical-align: middle;\n",
       "    }\n",
       "\n",
       "    .dataframe tbody tr th {\n",
       "        vertical-align: top;\n",
       "    }\n",
       "\n",
       "    .dataframe thead th {\n",
       "        text-align: right;\n",
       "    }\n",
       "</style>\n",
       "<table border=\"1\" class=\"dataframe\">\n",
       "  <thead>\n",
       "    <tr style=\"text-align: right;\">\n",
       "      <th></th>\n",
       "      <th>Provider Name</th>\n",
       "      <th>City</th>\n",
       "      <th>Zip</th>\n",
       "      <th>Latitude</th>\n",
       "      <th>Longitude</th>\n",
       "      <th>Geopoint</th>\n",
       "      <th>Last Report Date</th>\n",
       "      <th>Is PAP Site</th>\n",
       "      <th>Home Delivery</th>\n",
       "      <th>Is ICATT Site</th>\n",
       "      <th>...</th>\n",
       "      <th>Has Veklury</th>\n",
       "      <th>Has Oseltamivir Generic</th>\n",
       "      <th>Has Oseltamivir Suspension</th>\n",
       "      <th>Has Oseltamivir Tamiflu</th>\n",
       "      <th>Has Baloxavir</th>\n",
       "      <th>Has Zanamivir</th>\n",
       "      <th>Has Peramivir</th>\n",
       "      <th>Grantee Code</th>\n",
       "      <th>Is Flu</th>\n",
       "      <th>Is COVID-19</th>\n",
       "    </tr>\n",
       "  </thead>\n",
       "  <tbody>\n",
       "    <tr>\n",
       "      <th>37795</th>\n",
       "      <td>KENT'S PHARMACY</td>\n",
       "      <td>PLAIN CITY</td>\n",
       "      <td>84404</td>\n",
       "      <td>41.303539</td>\n",
       "      <td>-112.068408</td>\n",
       "      <td>POINT (-112.068408 41.303539)</td>\n",
       "      <td>2025-01-17 00:00:00</td>\n",
       "      <td>True</td>\n",
       "      <td>False</td>\n",
       "      <td>False</td>\n",
       "      <td>...</td>\n",
       "      <td>False</td>\n",
       "      <td>False</td>\n",
       "      <td>False</td>\n",
       "      <td>False</td>\n",
       "      <td>False</td>\n",
       "      <td>False</td>\n",
       "      <td>False</td>\n",
       "      <td>TP1</td>\n",
       "      <td>False</td>\n",
       "      <td>True</td>\n",
       "    </tr>\n",
       "    <tr>\n",
       "      <th>45697</th>\n",
       "      <td>5 MINUTE PHARMACY, LLC</td>\n",
       "      <td>WAIPAHU</td>\n",
       "      <td>96797-1922</td>\n",
       "      <td>21.378379</td>\n",
       "      <td>-158.025676</td>\n",
       "      <td>POINT (-158.025676 21.378379)</td>\n",
       "      <td>2025-01-17 00:00:00</td>\n",
       "      <td>True</td>\n",
       "      <td>False</td>\n",
       "      <td>False</td>\n",
       "      <td>...</td>\n",
       "      <td>False</td>\n",
       "      <td>False</td>\n",
       "      <td>False</td>\n",
       "      <td>False</td>\n",
       "      <td>False</td>\n",
       "      <td>False</td>\n",
       "      <td>False</td>\n",
       "      <td>GN1</td>\n",
       "      <td>False</td>\n",
       "      <td>True</td>\n",
       "    </tr>\n",
       "    <tr>\n",
       "      <th>24078</th>\n",
       "      <td>OSCO DRUG #3488</td>\n",
       "      <td>MUNDELEIN</td>\n",
       "      <td>60060-4258</td>\n",
       "      <td>42.243631</td>\n",
       "      <td>-87.992928</td>\n",
       "      <td>POINT (-87.992928 42.243631)</td>\n",
       "      <td>2025-01-17 00:00:00</td>\n",
       "      <td>True</td>\n",
       "      <td>False</td>\n",
       "      <td>False</td>\n",
       "      <td>...</td>\n",
       "      <td>False</td>\n",
       "      <td>False</td>\n",
       "      <td>False</td>\n",
       "      <td>False</td>\n",
       "      <td>False</td>\n",
       "      <td>False</td>\n",
       "      <td>False</td>\n",
       "      <td>AB1</td>\n",
       "      <td>False</td>\n",
       "      <td>True</td>\n",
       "    </tr>\n",
       "    <tr>\n",
       "      <th>46959</th>\n",
       "      <td>KROGER PHARMACY J-907</td>\n",
       "      <td>MARTINSVILLE</td>\n",
       "      <td>46151</td>\n",
       "      <td>39.411650</td>\n",
       "      <td>-86.426080</td>\n",
       "      <td>POINT (-86.42608 39.41165)</td>\n",
       "      <td>2025-01-17 00:00:00</td>\n",
       "      <td>True</td>\n",
       "      <td>False</td>\n",
       "      <td>False</td>\n",
       "      <td>...</td>\n",
       "      <td>False</td>\n",
       "      <td>False</td>\n",
       "      <td>False</td>\n",
       "      <td>False</td>\n",
       "      <td>False</td>\n",
       "      <td>False</td>\n",
       "      <td>False</td>\n",
       "      <td>KG1</td>\n",
       "      <td>False</td>\n",
       "      <td>True</td>\n",
       "    </tr>\n",
       "    <tr>\n",
       "      <th>62293</th>\n",
       "      <td>WALGREENS #16058</td>\n",
       "      <td>ROSEVILLE</td>\n",
       "      <td>95747-7143</td>\n",
       "      <td>38.775663</td>\n",
       "      <td>-121.269031</td>\n",
       "      <td>POINT (-121.269031 38.775663)</td>\n",
       "      <td>2025-01-17 00:00:00</td>\n",
       "      <td>True</td>\n",
       "      <td>False</td>\n",
       "      <td>False</td>\n",
       "      <td>...</td>\n",
       "      <td>False</td>\n",
       "      <td>True</td>\n",
       "      <td>False</td>\n",
       "      <td>False</td>\n",
       "      <td>False</td>\n",
       "      <td>False</td>\n",
       "      <td>False</td>\n",
       "      <td>WG1</td>\n",
       "      <td>True</td>\n",
       "      <td>True</td>\n",
       "    </tr>\n",
       "    <tr>\n",
       "      <th>...</th>\n",
       "      <td>...</td>\n",
       "      <td>...</td>\n",
       "      <td>...</td>\n",
       "      <td>...</td>\n",
       "      <td>...</td>\n",
       "      <td>...</td>\n",
       "      <td>...</td>\n",
       "      <td>...</td>\n",
       "      <td>...</td>\n",
       "      <td>...</td>\n",
       "      <td>...</td>\n",
       "      <td>...</td>\n",
       "      <td>...</td>\n",
       "      <td>...</td>\n",
       "      <td>...</td>\n",
       "      <td>...</td>\n",
       "      <td>...</td>\n",
       "      <td>...</td>\n",
       "      <td>...</td>\n",
       "      <td>...</td>\n",
       "      <td>...</td>\n",
       "    </tr>\n",
       "    <tr>\n",
       "      <th>54505</th>\n",
       "      <td>CVS STORE #17838</td>\n",
       "      <td>KILL DEVIL HILLS</td>\n",
       "      <td>27948</td>\n",
       "      <td>36.037584</td>\n",
       "      <td>-75.672700</td>\n",
       "      <td>POINT (-75.6727 36.037584)</td>\n",
       "      <td>2025-01-13 19:49:00</td>\n",
       "      <td>False</td>\n",
       "      <td>False</td>\n",
       "      <td>False</td>\n",
       "      <td>...</td>\n",
       "      <td>False</td>\n",
       "      <td>True</td>\n",
       "      <td>True</td>\n",
       "      <td>False</td>\n",
       "      <td>False</td>\n",
       "      <td>False</td>\n",
       "      <td>False</td>\n",
       "      <td>CV1</td>\n",
       "      <td>True</td>\n",
       "      <td>False</td>\n",
       "    </tr>\n",
       "    <tr>\n",
       "      <th>54559</th>\n",
       "      <td>HEB Pharmacy 780</td>\n",
       "      <td>AUSTIN</td>\n",
       "      <td>78737</td>\n",
       "      <td>30.208450</td>\n",
       "      <td>-97.969560</td>\n",
       "      <td>POINT (-97.96956 30.20845)</td>\n",
       "      <td>2025-01-20 16:14:00</td>\n",
       "      <td>False</td>\n",
       "      <td>False</td>\n",
       "      <td>False</td>\n",
       "      <td>...</td>\n",
       "      <td>False</td>\n",
       "      <td>True</td>\n",
       "      <td>True</td>\n",
       "      <td>True</td>\n",
       "      <td>True</td>\n",
       "      <td>False</td>\n",
       "      <td>False</td>\n",
       "      <td>HE1</td>\n",
       "      <td>True</td>\n",
       "      <td>False</td>\n",
       "    </tr>\n",
       "    <tr>\n",
       "      <th>60339</th>\n",
       "      <td>HEB Pharmacy 793</td>\n",
       "      <td>Boerne</td>\n",
       "      <td>78006</td>\n",
       "      <td>29.740090</td>\n",
       "      <td>-98.689620</td>\n",
       "      <td>POINT (-98.68962 29.74009)</td>\n",
       "      <td>2025-01-20 16:14:00</td>\n",
       "      <td>False</td>\n",
       "      <td>False</td>\n",
       "      <td>False</td>\n",
       "      <td>...</td>\n",
       "      <td>False</td>\n",
       "      <td>True</td>\n",
       "      <td>True</td>\n",
       "      <td>True</td>\n",
       "      <td>True</td>\n",
       "      <td>False</td>\n",
       "      <td>False</td>\n",
       "      <td>HE1</td>\n",
       "      <td>True</td>\n",
       "      <td>False</td>\n",
       "    </tr>\n",
       "    <tr>\n",
       "      <th>62307</th>\n",
       "      <td>WALGREENS STORE #21557</td>\n",
       "      <td>ABBEVILLE</td>\n",
       "      <td>70510</td>\n",
       "      <td>29.980739</td>\n",
       "      <td>-92.111543</td>\n",
       "      <td>POINT (-92.111543 29.980739)</td>\n",
       "      <td>2025-01-17 02:11:00</td>\n",
       "      <td>False</td>\n",
       "      <td>False</td>\n",
       "      <td>False</td>\n",
       "      <td>...</td>\n",
       "      <td>False</td>\n",
       "      <td>True</td>\n",
       "      <td>False</td>\n",
       "      <td>False</td>\n",
       "      <td>False</td>\n",
       "      <td>False</td>\n",
       "      <td>False</td>\n",
       "      <td>WG1</td>\n",
       "      <td>True</td>\n",
       "      <td>False</td>\n",
       "    </tr>\n",
       "    <tr>\n",
       "      <th>65847</th>\n",
       "      <td>Walgreens Store #21497</td>\n",
       "      <td>MOUNT VERNON</td>\n",
       "      <td>75457</td>\n",
       "      <td>33.182677</td>\n",
       "      <td>-95.234542</td>\n",
       "      <td>POINT (-95.234542 33.182677)</td>\n",
       "      <td>2025-01-17 02:11:00</td>\n",
       "      <td>False</td>\n",
       "      <td>False</td>\n",
       "      <td>False</td>\n",
       "      <td>...</td>\n",
       "      <td>False</td>\n",
       "      <td>True</td>\n",
       "      <td>False</td>\n",
       "      <td>False</td>\n",
       "      <td>False</td>\n",
       "      <td>False</td>\n",
       "      <td>False</td>\n",
       "      <td>WG1</td>\n",
       "      <td>True</td>\n",
       "      <td>False</td>\n",
       "    </tr>\n",
       "  </tbody>\n",
       "</table>\n",
       "<p>1713 rows × 28 columns</p>\n",
       "</div>"
      ],
      "text/plain": [
       "                Provider Name              City         Zip   Latitude  \\\n",
       "37795         KENT'S PHARMACY        PLAIN CITY       84404  41.303539   \n",
       "45697  5 MINUTE PHARMACY, LLC           WAIPAHU  96797-1922  21.378379   \n",
       "24078         OSCO DRUG #3488         MUNDELEIN  60060-4258  42.243631   \n",
       "46959   KROGER PHARMACY J-907      MARTINSVILLE       46151  39.411650   \n",
       "62293        WALGREENS #16058         ROSEVILLE  95747-7143  38.775663   \n",
       "...                       ...               ...         ...        ...   \n",
       "54505        CVS STORE #17838  KILL DEVIL HILLS       27948  36.037584   \n",
       "54559        HEB Pharmacy 780            AUSTIN       78737  30.208450   \n",
       "60339        HEB Pharmacy 793            Boerne       78006  29.740090   \n",
       "62307  WALGREENS STORE #21557         ABBEVILLE       70510  29.980739   \n",
       "65847  Walgreens Store #21497      MOUNT VERNON       75457  33.182677   \n",
       "\n",
       "        Longitude                       Geopoint    Last Report Date  \\\n",
       "37795 -112.068408  POINT (-112.068408 41.303539) 2025-01-17 00:00:00   \n",
       "45697 -158.025676  POINT (-158.025676 21.378379) 2025-01-17 00:00:00   \n",
       "24078  -87.992928   POINT (-87.992928 42.243631) 2025-01-17 00:00:00   \n",
       "46959  -86.426080     POINT (-86.42608 39.41165) 2025-01-17 00:00:00   \n",
       "62293 -121.269031  POINT (-121.269031 38.775663) 2025-01-17 00:00:00   \n",
       "...           ...                            ...                 ...   \n",
       "54505  -75.672700     POINT (-75.6727 36.037584) 2025-01-13 19:49:00   \n",
       "54559  -97.969560     POINT (-97.96956 30.20845) 2025-01-20 16:14:00   \n",
       "60339  -98.689620     POINT (-98.68962 29.74009) 2025-01-20 16:14:00   \n",
       "62307  -92.111543   POINT (-92.111543 29.980739) 2025-01-17 02:11:00   \n",
       "65847  -95.234542   POINT (-95.234542 33.182677) 2025-01-17 02:11:00   \n",
       "\n",
       "       Is PAP Site  Home Delivery  Is ICATT Site  ...  Has Veklury  \\\n",
       "37795         True          False          False  ...        False   \n",
       "45697         True          False          False  ...        False   \n",
       "24078         True          False          False  ...        False   \n",
       "46959         True          False          False  ...        False   \n",
       "62293         True          False          False  ...        False   \n",
       "...            ...            ...            ...  ...          ...   \n",
       "54505        False          False          False  ...        False   \n",
       "54559        False          False          False  ...        False   \n",
       "60339        False          False          False  ...        False   \n",
       "62307        False          False          False  ...        False   \n",
       "65847        False          False          False  ...        False   \n",
       "\n",
       "       Has Oseltamivir Generic  Has Oseltamivir Suspension  \\\n",
       "37795                    False                       False   \n",
       "45697                    False                       False   \n",
       "24078                    False                       False   \n",
       "46959                    False                       False   \n",
       "62293                     True                       False   \n",
       "...                        ...                         ...   \n",
       "54505                     True                        True   \n",
       "54559                     True                        True   \n",
       "60339                     True                        True   \n",
       "62307                     True                       False   \n",
       "65847                     True                       False   \n",
       "\n",
       "       Has Oseltamivir Tamiflu  Has Baloxavir  Has Zanamivir  Has Peramivir  \\\n",
       "37795                    False          False          False          False   \n",
       "45697                    False          False          False          False   \n",
       "24078                    False          False          False          False   \n",
       "46959                    False          False          False          False   \n",
       "62293                    False          False          False          False   \n",
       "...                        ...            ...            ...            ...   \n",
       "54505                    False          False          False          False   \n",
       "54559                     True           True          False          False   \n",
       "60339                     True           True          False          False   \n",
       "62307                    False          False          False          False   \n",
       "65847                    False          False          False          False   \n",
       "\n",
       "       Grantee Code  Is Flu  Is COVID-19  \n",
       "37795           TP1   False         True  \n",
       "45697           GN1   False         True  \n",
       "24078           AB1   False         True  \n",
       "46959           KG1   False         True  \n",
       "62293           WG1    True         True  \n",
       "...             ...     ...          ...  \n",
       "54505           CV1    True        False  \n",
       "54559           HE1    True        False  \n",
       "60339           HE1    True        False  \n",
       "62307           WG1    True        False  \n",
       "65847           WG1    True        False  \n",
       "\n",
       "[1713 rows x 28 columns]"
      ]
     },
     "execution_count": 182,
     "metadata": {},
     "output_type": "execute_result"
    }
   ],
   "source": [
    "Cov"
   ]
  },
  {
   "cell_type": "code",
   "execution_count": 183,
   "id": "770ace82-ca90-43a0-a179-5ea28f2a7e67",
   "metadata": {},
   "outputs": [],
   "source": [
    "Cov['Provider Name'] = Cov['Provider Name'].str.replace(r'#.*','', regex = True).str.strip()\n",
    "#here we using regex pattern r'#.*' starts from # followed by any value will be replaced by '' empty string. strip use to remove extra space behind #"
   ]
  },
  {
   "cell_type": "code",
   "execution_count": 184,
   "id": "b3148d88-d170-4e7b-b568-4a65a7b0e335",
   "metadata": {},
   "outputs": [],
   "source": [
    "Cov['Provider Name'] = Cov['Provider Name'].str.replace(r'\\d+','', regex = True).str.strip()"
   ]
  },
  {
   "cell_type": "code",
   "execution_count": 185,
   "id": "e4d77b40-8d8b-47e7-883f-a6e249f90be1",
   "metadata": {},
   "outputs": [
    {
     "name": "stdout",
     "output_type": "stream",
     "text": [
      "<class 'pandas.core.frame.DataFrame'>\n",
      "Index: 1713 entries, 37795 to 65847\n",
      "Data columns (total 28 columns):\n",
      " #   Column                      Non-Null Count  Dtype         \n",
      "---  ------                      --------------  -----         \n",
      " 0   Provider Name               1713 non-null   object        \n",
      " 1   City                        1713 non-null   object        \n",
      " 2   Zip                         1713 non-null   object        \n",
      " 3   Latitude                    1713 non-null   float64       \n",
      " 4   Longitude                   1713 non-null   float64       \n",
      " 5   Geopoint                    1713 non-null   object        \n",
      " 6   Last Report Date            1713 non-null   datetime64[ns]\n",
      " 7   Is PAP Site                 1713 non-null   bool          \n",
      " 8   Home Delivery               1713 non-null   bool          \n",
      " 9   Is ICATT Site               1713 non-null   bool          \n",
      " 10  Has USG Product             1713 non-null   bool          \n",
      " 11  Has Commercial Product      1713 non-null   bool          \n",
      " 12  Has Paxlovid                1713 non-null   bool          \n",
      " 13  Has Commercial Paxlovid     1713 non-null   bool          \n",
      " 14  Has USG Paxlovid            1713 non-null   bool          \n",
      " 15  Has Lagevrio                1713 non-null   bool          \n",
      " 16  Has Commercial Lagevrio     1713 non-null   bool          \n",
      " 17  Has USG Lagevrio            1713 non-null   bool          \n",
      " 18  Has Veklury                 1713 non-null   bool          \n",
      " 19  Has Oseltamivir Generic     1713 non-null   bool          \n",
      " 20  Has Oseltamivir Suspension  1713 non-null   bool          \n",
      " 21  Has Oseltamivir Tamiflu     1713 non-null   bool          \n",
      " 22  Has Baloxavir               1713 non-null   bool          \n",
      " 23  Has Zanamivir               1713 non-null   bool          \n",
      " 24  Has Peramivir               1713 non-null   bool          \n",
      " 25  Grantee Code                1713 non-null   object        \n",
      " 26  Is Flu                      1713 non-null   bool          \n",
      " 27  Is COVID-19                 1713 non-null   bool          \n",
      "dtypes: bool(20), datetime64[ns](1), float64(2), object(5)\n",
      "memory usage: 153.9+ KB\n"
     ]
    }
   ],
   "source": [
    "Cov.info()"
   ]
  },
  {
   "cell_type": "code",
   "execution_count": 186,
   "id": "b6d971a1-8dcc-436e-b081-eeb8d5c898ea",
   "metadata": {},
   "outputs": [],
   "source": [
    "dum = pd.get_dummies(Cov)"
   ]
  },
  {
   "cell_type": "code",
   "execution_count": 187,
   "id": "fa64ca4b-682e-43cb-b662-940456708d6a",
   "metadata": {},
   "outputs": [],
   "source": [
    "dum[['Latitude','Longitude']] = dum[['Latitude','Longitude']].astype(int)"
   ]
  },
  {
   "cell_type": "code",
   "execution_count": 188,
   "id": "9deefb6d-f4c9-4dc9-8c1b-5a44e13d88f1",
   "metadata": {},
   "outputs": [],
   "source": [
    "dum[['Last Report Date']] = dum[['Last Report Date']].astype(str)"
   ]
  },
  {
   "cell_type": "code",
   "execution_count": 189,
   "id": "13c74a66-27b5-4ec5-87c7-a1cfa65d6fb7",
   "metadata": {},
   "outputs": [],
   "source": [
    "new = dum.drop(columns= ['Latitude','Longitude','Last Report Date'], axis= 1)"
   ]
  },
  {
   "cell_type": "code",
   "execution_count": 190,
   "id": "c1539c42-6972-4202-8d58-a7186aed6ff4",
   "metadata": {},
   "outputs": [
    {
     "name": "stdout",
     "output_type": "stream",
     "text": [
      "<class 'pandas.core.frame.DataFrame'>\n",
      "Index: 1713 entries, 37795 to 65847\n",
      "Columns: 5067 entries, Is PAP Site to Grantee Code_WM1\n",
      "dtypes: bool(5067)\n",
      "memory usage: 8.3 MB\n"
     ]
    }
   ],
   "source": [
    "new.info()"
   ]
  },
  {
   "cell_type": "code",
   "execution_count": 191,
   "id": "98b8e559-5379-47f8-97da-d47b08722d6e",
   "metadata": {},
   "outputs": [],
   "source": [
    "X = new.drop(columns = 'Is COVID-19')\n",
    "y = new['Is COVID-19']"
   ]
  },
  {
   "cell_type": "code",
   "execution_count": 192,
   "id": "7bae6d34-6239-416c-852b-143476ece0c7",
   "metadata": {},
   "outputs": [],
   "source": [
    "X_train, X_test, y_train, y_test = train_test_split(X,y, test_size= 0.2 , random_state = 42)"
   ]
  },
  {
   "cell_type": "code",
   "execution_count": 193,
   "id": "e38db512-6f12-4ec7-afdb-1aeb16a13260",
   "metadata": {},
   "outputs": [
    {
     "name": "stdout",
     "output_type": "stream",
     "text": [
      "(1370, 5066)\n",
      "(343, 5066)\n",
      "(1370,)\n",
      "(343,)\n"
     ]
    }
   ],
   "source": [
    "print(X_train.shape)\n",
    "print(X_test.shape)\n",
    "print(y_train.shape)\n",
    "print(y_test.shape)"
   ]
  },
  {
   "cell_type": "code",
   "execution_count": 194,
   "id": "afa06071-bc08-415d-baa5-f556d0ae1e12",
   "metadata": {},
   "outputs": [
    {
     "data": {
      "text/html": [
       "<style>#sk-container-id-2 {\n",
       "  /* Definition of color scheme common for light and dark mode */\n",
       "  --sklearn-color-text: #000;\n",
       "  --sklearn-color-text-muted: #666;\n",
       "  --sklearn-color-line: gray;\n",
       "  /* Definition of color scheme for unfitted estimators */\n",
       "  --sklearn-color-unfitted-level-0: #fff5e6;\n",
       "  --sklearn-color-unfitted-level-1: #f6e4d2;\n",
       "  --sklearn-color-unfitted-level-2: #ffe0b3;\n",
       "  --sklearn-color-unfitted-level-3: chocolate;\n",
       "  /* Definition of color scheme for fitted estimators */\n",
       "  --sklearn-color-fitted-level-0: #f0f8ff;\n",
       "  --sklearn-color-fitted-level-1: #d4ebff;\n",
       "  --sklearn-color-fitted-level-2: #b3dbfd;\n",
       "  --sklearn-color-fitted-level-3: cornflowerblue;\n",
       "\n",
       "  /* Specific color for light theme */\n",
       "  --sklearn-color-text-on-default-background: var(--sg-text-color, var(--theme-code-foreground, var(--jp-content-font-color1, black)));\n",
       "  --sklearn-color-background: var(--sg-background-color, var(--theme-background, var(--jp-layout-color0, white)));\n",
       "  --sklearn-color-border-box: var(--sg-text-color, var(--theme-code-foreground, var(--jp-content-font-color1, black)));\n",
       "  --sklearn-color-icon: #696969;\n",
       "\n",
       "  @media (prefers-color-scheme: dark) {\n",
       "    /* Redefinition of color scheme for dark theme */\n",
       "    --sklearn-color-text-on-default-background: var(--sg-text-color, var(--theme-code-foreground, var(--jp-content-font-color1, white)));\n",
       "    --sklearn-color-background: var(--sg-background-color, var(--theme-background, var(--jp-layout-color0, #111)));\n",
       "    --sklearn-color-border-box: var(--sg-text-color, var(--theme-code-foreground, var(--jp-content-font-color1, white)));\n",
       "    --sklearn-color-icon: #878787;\n",
       "  }\n",
       "}\n",
       "\n",
       "#sk-container-id-2 {\n",
       "  color: var(--sklearn-color-text);\n",
       "}\n",
       "\n",
       "#sk-container-id-2 pre {\n",
       "  padding: 0;\n",
       "}\n",
       "\n",
       "#sk-container-id-2 input.sk-hidden--visually {\n",
       "  border: 0;\n",
       "  clip: rect(1px 1px 1px 1px);\n",
       "  clip: rect(1px, 1px, 1px, 1px);\n",
       "  height: 1px;\n",
       "  margin: -1px;\n",
       "  overflow: hidden;\n",
       "  padding: 0;\n",
       "  position: absolute;\n",
       "  width: 1px;\n",
       "}\n",
       "\n",
       "#sk-container-id-2 div.sk-dashed-wrapped {\n",
       "  border: 1px dashed var(--sklearn-color-line);\n",
       "  margin: 0 0.4em 0.5em 0.4em;\n",
       "  box-sizing: border-box;\n",
       "  padding-bottom: 0.4em;\n",
       "  background-color: var(--sklearn-color-background);\n",
       "}\n",
       "\n",
       "#sk-container-id-2 div.sk-container {\n",
       "  /* jupyter's `normalize.less` sets `[hidden] { display: none; }`\n",
       "     but bootstrap.min.css set `[hidden] { display: none !important; }`\n",
       "     so we also need the `!important` here to be able to override the\n",
       "     default hidden behavior on the sphinx rendered scikit-learn.org.\n",
       "     See: https://github.com/scikit-learn/scikit-learn/issues/21755 */\n",
       "  display: inline-block !important;\n",
       "  position: relative;\n",
       "}\n",
       "\n",
       "#sk-container-id-2 div.sk-text-repr-fallback {\n",
       "  display: none;\n",
       "}\n",
       "\n",
       "div.sk-parallel-item,\n",
       "div.sk-serial,\n",
       "div.sk-item {\n",
       "  /* draw centered vertical line to link estimators */\n",
       "  background-image: linear-gradient(var(--sklearn-color-text-on-default-background), var(--sklearn-color-text-on-default-background));\n",
       "  background-size: 2px 100%;\n",
       "  background-repeat: no-repeat;\n",
       "  background-position: center center;\n",
       "}\n",
       "\n",
       "/* Parallel-specific style estimator block */\n",
       "\n",
       "#sk-container-id-2 div.sk-parallel-item::after {\n",
       "  content: \"\";\n",
       "  width: 100%;\n",
       "  border-bottom: 2px solid var(--sklearn-color-text-on-default-background);\n",
       "  flex-grow: 1;\n",
       "}\n",
       "\n",
       "#sk-container-id-2 div.sk-parallel {\n",
       "  display: flex;\n",
       "  align-items: stretch;\n",
       "  justify-content: center;\n",
       "  background-color: var(--sklearn-color-background);\n",
       "  position: relative;\n",
       "}\n",
       "\n",
       "#sk-container-id-2 div.sk-parallel-item {\n",
       "  display: flex;\n",
       "  flex-direction: column;\n",
       "}\n",
       "\n",
       "#sk-container-id-2 div.sk-parallel-item:first-child::after {\n",
       "  align-self: flex-end;\n",
       "  width: 50%;\n",
       "}\n",
       "\n",
       "#sk-container-id-2 div.sk-parallel-item:last-child::after {\n",
       "  align-self: flex-start;\n",
       "  width: 50%;\n",
       "}\n",
       "\n",
       "#sk-container-id-2 div.sk-parallel-item:only-child::after {\n",
       "  width: 0;\n",
       "}\n",
       "\n",
       "/* Serial-specific style estimator block */\n",
       "\n",
       "#sk-container-id-2 div.sk-serial {\n",
       "  display: flex;\n",
       "  flex-direction: column;\n",
       "  align-items: center;\n",
       "  background-color: var(--sklearn-color-background);\n",
       "  padding-right: 1em;\n",
       "  padding-left: 1em;\n",
       "}\n",
       "\n",
       "\n",
       "/* Toggleable style: style used for estimator/Pipeline/ColumnTransformer box that is\n",
       "clickable and can be expanded/collapsed.\n",
       "- Pipeline and ColumnTransformer use this feature and define the default style\n",
       "- Estimators will overwrite some part of the style using the `sk-estimator` class\n",
       "*/\n",
       "\n",
       "/* Pipeline and ColumnTransformer style (default) */\n",
       "\n",
       "#sk-container-id-2 div.sk-toggleable {\n",
       "  /* Default theme specific background. It is overwritten whether we have a\n",
       "  specific estimator or a Pipeline/ColumnTransformer */\n",
       "  background-color: var(--sklearn-color-background);\n",
       "}\n",
       "\n",
       "/* Toggleable label */\n",
       "#sk-container-id-2 label.sk-toggleable__label {\n",
       "  cursor: pointer;\n",
       "  display: flex;\n",
       "  width: 100%;\n",
       "  margin-bottom: 0;\n",
       "  padding: 0.5em;\n",
       "  box-sizing: border-box;\n",
       "  text-align: center;\n",
       "  align-items: start;\n",
       "  justify-content: space-between;\n",
       "  gap: 0.5em;\n",
       "}\n",
       "\n",
       "#sk-container-id-2 label.sk-toggleable__label .caption {\n",
       "  font-size: 0.6rem;\n",
       "  font-weight: lighter;\n",
       "  color: var(--sklearn-color-text-muted);\n",
       "}\n",
       "\n",
       "#sk-container-id-2 label.sk-toggleable__label-arrow:before {\n",
       "  /* Arrow on the left of the label */\n",
       "  content: \"▸\";\n",
       "  float: left;\n",
       "  margin-right: 0.25em;\n",
       "  color: var(--sklearn-color-icon);\n",
       "}\n",
       "\n",
       "#sk-container-id-2 label.sk-toggleable__label-arrow:hover:before {\n",
       "  color: var(--sklearn-color-text);\n",
       "}\n",
       "\n",
       "/* Toggleable content - dropdown */\n",
       "\n",
       "#sk-container-id-2 div.sk-toggleable__content {\n",
       "  max-height: 0;\n",
       "  max-width: 0;\n",
       "  overflow: hidden;\n",
       "  text-align: left;\n",
       "  /* unfitted */\n",
       "  background-color: var(--sklearn-color-unfitted-level-0);\n",
       "}\n",
       "\n",
       "#sk-container-id-2 div.sk-toggleable__content.fitted {\n",
       "  /* fitted */\n",
       "  background-color: var(--sklearn-color-fitted-level-0);\n",
       "}\n",
       "\n",
       "#sk-container-id-2 div.sk-toggleable__content pre {\n",
       "  margin: 0.2em;\n",
       "  border-radius: 0.25em;\n",
       "  color: var(--sklearn-color-text);\n",
       "  /* unfitted */\n",
       "  background-color: var(--sklearn-color-unfitted-level-0);\n",
       "}\n",
       "\n",
       "#sk-container-id-2 div.sk-toggleable__content.fitted pre {\n",
       "  /* unfitted */\n",
       "  background-color: var(--sklearn-color-fitted-level-0);\n",
       "}\n",
       "\n",
       "#sk-container-id-2 input.sk-toggleable__control:checked~div.sk-toggleable__content {\n",
       "  /* Expand drop-down */\n",
       "  max-height: 200px;\n",
       "  max-width: 100%;\n",
       "  overflow: auto;\n",
       "}\n",
       "\n",
       "#sk-container-id-2 input.sk-toggleable__control:checked~label.sk-toggleable__label-arrow:before {\n",
       "  content: \"▾\";\n",
       "}\n",
       "\n",
       "/* Pipeline/ColumnTransformer-specific style */\n",
       "\n",
       "#sk-container-id-2 div.sk-label input.sk-toggleable__control:checked~label.sk-toggleable__label {\n",
       "  color: var(--sklearn-color-text);\n",
       "  background-color: var(--sklearn-color-unfitted-level-2);\n",
       "}\n",
       "\n",
       "#sk-container-id-2 div.sk-label.fitted input.sk-toggleable__control:checked~label.sk-toggleable__label {\n",
       "  background-color: var(--sklearn-color-fitted-level-2);\n",
       "}\n",
       "\n",
       "/* Estimator-specific style */\n",
       "\n",
       "/* Colorize estimator box */\n",
       "#sk-container-id-2 div.sk-estimator input.sk-toggleable__control:checked~label.sk-toggleable__label {\n",
       "  /* unfitted */\n",
       "  background-color: var(--sklearn-color-unfitted-level-2);\n",
       "}\n",
       "\n",
       "#sk-container-id-2 div.sk-estimator.fitted input.sk-toggleable__control:checked~label.sk-toggleable__label {\n",
       "  /* fitted */\n",
       "  background-color: var(--sklearn-color-fitted-level-2);\n",
       "}\n",
       "\n",
       "#sk-container-id-2 div.sk-label label.sk-toggleable__label,\n",
       "#sk-container-id-2 div.sk-label label {\n",
       "  /* The background is the default theme color */\n",
       "  color: var(--sklearn-color-text-on-default-background);\n",
       "}\n",
       "\n",
       "/* On hover, darken the color of the background */\n",
       "#sk-container-id-2 div.sk-label:hover label.sk-toggleable__label {\n",
       "  color: var(--sklearn-color-text);\n",
       "  background-color: var(--sklearn-color-unfitted-level-2);\n",
       "}\n",
       "\n",
       "/* Label box, darken color on hover, fitted */\n",
       "#sk-container-id-2 div.sk-label.fitted:hover label.sk-toggleable__label.fitted {\n",
       "  color: var(--sklearn-color-text);\n",
       "  background-color: var(--sklearn-color-fitted-level-2);\n",
       "}\n",
       "\n",
       "/* Estimator label */\n",
       "\n",
       "#sk-container-id-2 div.sk-label label {\n",
       "  font-family: monospace;\n",
       "  font-weight: bold;\n",
       "  display: inline-block;\n",
       "  line-height: 1.2em;\n",
       "}\n",
       "\n",
       "#sk-container-id-2 div.sk-label-container {\n",
       "  text-align: center;\n",
       "}\n",
       "\n",
       "/* Estimator-specific */\n",
       "#sk-container-id-2 div.sk-estimator {\n",
       "  font-family: monospace;\n",
       "  border: 1px dotted var(--sklearn-color-border-box);\n",
       "  border-radius: 0.25em;\n",
       "  box-sizing: border-box;\n",
       "  margin-bottom: 0.5em;\n",
       "  /* unfitted */\n",
       "  background-color: var(--sklearn-color-unfitted-level-0);\n",
       "}\n",
       "\n",
       "#sk-container-id-2 div.sk-estimator.fitted {\n",
       "  /* fitted */\n",
       "  background-color: var(--sklearn-color-fitted-level-0);\n",
       "}\n",
       "\n",
       "/* on hover */\n",
       "#sk-container-id-2 div.sk-estimator:hover {\n",
       "  /* unfitted */\n",
       "  background-color: var(--sklearn-color-unfitted-level-2);\n",
       "}\n",
       "\n",
       "#sk-container-id-2 div.sk-estimator.fitted:hover {\n",
       "  /* fitted */\n",
       "  background-color: var(--sklearn-color-fitted-level-2);\n",
       "}\n",
       "\n",
       "/* Specification for estimator info (e.g. \"i\" and \"?\") */\n",
       "\n",
       "/* Common style for \"i\" and \"?\" */\n",
       "\n",
       ".sk-estimator-doc-link,\n",
       "a:link.sk-estimator-doc-link,\n",
       "a:visited.sk-estimator-doc-link {\n",
       "  float: right;\n",
       "  font-size: smaller;\n",
       "  line-height: 1em;\n",
       "  font-family: monospace;\n",
       "  background-color: var(--sklearn-color-background);\n",
       "  border-radius: 1em;\n",
       "  height: 1em;\n",
       "  width: 1em;\n",
       "  text-decoration: none !important;\n",
       "  margin-left: 0.5em;\n",
       "  text-align: center;\n",
       "  /* unfitted */\n",
       "  border: var(--sklearn-color-unfitted-level-1) 1pt solid;\n",
       "  color: var(--sklearn-color-unfitted-level-1);\n",
       "}\n",
       "\n",
       ".sk-estimator-doc-link.fitted,\n",
       "a:link.sk-estimator-doc-link.fitted,\n",
       "a:visited.sk-estimator-doc-link.fitted {\n",
       "  /* fitted */\n",
       "  border: var(--sklearn-color-fitted-level-1) 1pt solid;\n",
       "  color: var(--sklearn-color-fitted-level-1);\n",
       "}\n",
       "\n",
       "/* On hover */\n",
       "div.sk-estimator:hover .sk-estimator-doc-link:hover,\n",
       ".sk-estimator-doc-link:hover,\n",
       "div.sk-label-container:hover .sk-estimator-doc-link:hover,\n",
       ".sk-estimator-doc-link:hover {\n",
       "  /* unfitted */\n",
       "  background-color: var(--sklearn-color-unfitted-level-3);\n",
       "  color: var(--sklearn-color-background);\n",
       "  text-decoration: none;\n",
       "}\n",
       "\n",
       "div.sk-estimator.fitted:hover .sk-estimator-doc-link.fitted:hover,\n",
       ".sk-estimator-doc-link.fitted:hover,\n",
       "div.sk-label-container:hover .sk-estimator-doc-link.fitted:hover,\n",
       ".sk-estimator-doc-link.fitted:hover {\n",
       "  /* fitted */\n",
       "  background-color: var(--sklearn-color-fitted-level-3);\n",
       "  color: var(--sklearn-color-background);\n",
       "  text-decoration: none;\n",
       "}\n",
       "\n",
       "/* Span, style for the box shown on hovering the info icon */\n",
       ".sk-estimator-doc-link span {\n",
       "  display: none;\n",
       "  z-index: 9999;\n",
       "  position: relative;\n",
       "  font-weight: normal;\n",
       "  right: .2ex;\n",
       "  padding: .5ex;\n",
       "  margin: .5ex;\n",
       "  width: min-content;\n",
       "  min-width: 20ex;\n",
       "  max-width: 50ex;\n",
       "  color: var(--sklearn-color-text);\n",
       "  box-shadow: 2pt 2pt 4pt #999;\n",
       "  /* unfitted */\n",
       "  background: var(--sklearn-color-unfitted-level-0);\n",
       "  border: .5pt solid var(--sklearn-color-unfitted-level-3);\n",
       "}\n",
       "\n",
       ".sk-estimator-doc-link.fitted span {\n",
       "  /* fitted */\n",
       "  background: var(--sklearn-color-fitted-level-0);\n",
       "  border: var(--sklearn-color-fitted-level-3);\n",
       "}\n",
       "\n",
       ".sk-estimator-doc-link:hover span {\n",
       "  display: block;\n",
       "}\n",
       "\n",
       "/* \"?\"-specific style due to the `<a>` HTML tag */\n",
       "\n",
       "#sk-container-id-2 a.estimator_doc_link {\n",
       "  float: right;\n",
       "  font-size: 1rem;\n",
       "  line-height: 1em;\n",
       "  font-family: monospace;\n",
       "  background-color: var(--sklearn-color-background);\n",
       "  border-radius: 1rem;\n",
       "  height: 1rem;\n",
       "  width: 1rem;\n",
       "  text-decoration: none;\n",
       "  /* unfitted */\n",
       "  color: var(--sklearn-color-unfitted-level-1);\n",
       "  border: var(--sklearn-color-unfitted-level-1) 1pt solid;\n",
       "}\n",
       "\n",
       "#sk-container-id-2 a.estimator_doc_link.fitted {\n",
       "  /* fitted */\n",
       "  border: var(--sklearn-color-fitted-level-1) 1pt solid;\n",
       "  color: var(--sklearn-color-fitted-level-1);\n",
       "}\n",
       "\n",
       "/* On hover */\n",
       "#sk-container-id-2 a.estimator_doc_link:hover {\n",
       "  /* unfitted */\n",
       "  background-color: var(--sklearn-color-unfitted-level-3);\n",
       "  color: var(--sklearn-color-background);\n",
       "  text-decoration: none;\n",
       "}\n",
       "\n",
       "#sk-container-id-2 a.estimator_doc_link.fitted:hover {\n",
       "  /* fitted */\n",
       "  background-color: var(--sklearn-color-fitted-level-3);\n",
       "}\n",
       "</style><div id=\"sk-container-id-2\" class=\"sk-top-container\"><div class=\"sk-text-repr-fallback\"><pre>SVC()</pre><b>In a Jupyter environment, please rerun this cell to show the HTML representation or trust the notebook. <br />On GitHub, the HTML representation is unable to render, please try loading this page with nbviewer.org.</b></div><div class=\"sk-container\" hidden><div class=\"sk-item\"><div class=\"sk-estimator fitted sk-toggleable\"><input class=\"sk-toggleable__control sk-hidden--visually\" id=\"sk-estimator-id-2\" type=\"checkbox\" checked><label for=\"sk-estimator-id-2\" class=\"sk-toggleable__label fitted sk-toggleable__label-arrow\"><div><div>SVC</div></div><div><a class=\"sk-estimator-doc-link fitted\" rel=\"noreferrer\" target=\"_blank\" href=\"https://scikit-learn.org/1.6/modules/generated/sklearn.svm.SVC.html\">?<span>Documentation for SVC</span></a><span class=\"sk-estimator-doc-link fitted\">i<span>Fitted</span></span></div></label><div class=\"sk-toggleable__content fitted\"><pre>SVC()</pre></div> </div></div></div></div>"
      ],
      "text/plain": [
       "SVC()"
      ]
     },
     "execution_count": 194,
     "metadata": {},
     "output_type": "execute_result"
    }
   ],
   "source": [
    "sv_model = SVC()\n",
    "sv_model.fit(X_train,y_train)"
   ]
  },
  {
   "cell_type": "code",
   "execution_count": 198,
   "id": "48c7c8f2-8966-49b1-80ff-d30c7991ef38",
   "metadata": {},
   "outputs": [
    {
     "name": "stdout",
     "output_type": "stream",
     "text": [
      "Accuracy of train model:1.0\n"
     ]
    }
   ],
   "source": [
    "log_accuracy =  sv_model.score(X_train,y_train)\n",
    "print(f'Accuracy of train model:{log_accuracy}')"
   ]
  },
  {
   "cell_type": "code",
   "execution_count": 199,
   "id": "34cb4e30-9b78-42b0-9d26-d56dfe0e7826",
   "metadata": {},
   "outputs": [
    {
     "name": "stdout",
     "output_type": "stream",
     "text": [
      "Accuracy of test model:1.0\n"
     ]
    }
   ],
   "source": [
    "log_accuracy_test = sv_model.score(X_test,y_test)\n",
    "print(f'Accuracy of test model:{log_accuracy_test}')"
   ]
  },
  {
   "cell_type": "code",
   "execution_count": 201,
   "id": "f6577e42-be9b-49cb-880b-bdd8697b974f",
   "metadata": {},
   "outputs": [],
   "source": [
    "y_train_pred = sv_model.predict(X_train)"
   ]
  },
  {
   "cell_type": "code",
   "execution_count": 202,
   "id": "2dbcab04-880f-4052-aa26-04d771e8e086",
   "metadata": {},
   "outputs": [
    {
     "name": "stdout",
     "output_type": "stream",
     "text": [
      "              precision    recall  f1-score   support\n",
      "\n",
      "       False       1.00      1.00      1.00       578\n",
      "        True       1.00      1.00      1.00       792\n",
      "\n",
      "    accuracy                           1.00      1370\n",
      "   macro avg       1.00      1.00      1.00      1370\n",
      "weighted avg       1.00      1.00      1.00      1370\n",
      "\n"
     ]
    }
   ],
   "source": [
    "print(classification_report(y_train,y_train_pred))"
   ]
  },
  {
   "cell_type": "code",
   "execution_count": 203,
   "id": "149e7c81-aa2a-41c3-9544-6ccce321d93b",
   "metadata": {},
   "outputs": [],
   "source": [
    "y_test_pred = sv_model.predict(X_test)"
   ]
  },
  {
   "cell_type": "code",
   "execution_count": 204,
   "id": "9409a84d-aab0-413b-ba59-7f9b04ae3468",
   "metadata": {},
   "outputs": [
    {
     "name": "stdout",
     "output_type": "stream",
     "text": [
      "              precision    recall  f1-score   support\n",
      "\n",
      "       False       1.00      1.00      1.00       135\n",
      "        True       1.00      1.00      1.00       208\n",
      "\n",
      "    accuracy                           1.00       343\n",
      "   macro avg       1.00      1.00      1.00       343\n",
      "weighted avg       1.00      1.00      1.00       343\n",
      "\n"
     ]
    }
   ],
   "source": [
    "print(classification_report(y_test,y_test_pred))"
   ]
  },
  {
   "cell_type": "code",
   "execution_count": null,
   "id": "7a3ec39b-9698-4bf6-9c40-72174ff553f1",
   "metadata": {},
   "outputs": [],
   "source": []
  }
 ],
 "metadata": {
  "kernelspec": {
   "display_name": "Python 3 (ipykernel)",
   "language": "python",
   "name": "python3"
  },
  "language_info": {
   "codemirror_mode": {
    "name": "ipython",
    "version": 3
   },
   "file_extension": ".py",
   "mimetype": "text/x-python",
   "name": "python",
   "nbconvert_exporter": "python",
   "pygments_lexer": "ipython3",
   "version": "3.13.1"
  }
 },
 "nbformat": 4,
 "nbformat_minor": 5
}
